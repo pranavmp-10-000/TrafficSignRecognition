{
  "nbformat": 4,
  "nbformat_minor": 0,
  "metadata": {
    "colab": {
      "name": "TrafficSignRecognition.ipynb",
      "provenance": [],
      "collapsed_sections": [],
      "authorship_tag": "ABX9TyNY08D5OK6V3LIGFweHHN4y",
      "include_colab_link": true
    },
    "kernelspec": {
      "name": "python3",
      "display_name": "Python 3"
    },
    "accelerator": "GPU"
  },
  "cells": [
    {
      "cell_type": "markdown",
      "metadata": {
        "id": "view-in-github",
        "colab_type": "text"
      },
      "source": [
        "<a href=\"https://colab.research.google.com/github/pranavmp-10-000/TrafficSignRecognition/blob/main/TrafficSignRecognition.ipynb\" target=\"_parent\"><img src=\"https://colab.research.google.com/assets/colab-badge.svg\" alt=\"Open In Colab\"/></a>"
      ]
    },
    {
      "cell_type": "code",
      "metadata": {
        "id": "pbMwUKxVQ3ET",
        "colab": {
          "base_uri": "https://localhost:8080/"
        },
        "outputId": "adaaa843-c0ba-4f9d-9b15-13927449ac2a"
      },
      "source": [
        "!git clone https://github.com/pranavmp-10-000/TrafficSignRecognition.git"
      ],
      "execution_count": 1,
      "outputs": [
        {
          "output_type": "stream",
          "text": [
            "Cloning into 'TrafficSignRecognition'...\n",
            "remote: Enumerating objects: 2473, done.\u001b[K\n",
            "remote: Counting objects: 100% (2473/2473), done.\u001b[K\n",
            "remote: Compressing objects: 100% (2471/2471), done.\u001b[K\n",
            "remote: Total 2473 (delta 0), reused 2469 (delta 0), pack-reused 0\u001b[K\n",
            "Receiving objects: 100% (2473/2473), 75.94 MiB | 53.56 MiB/s, done.\n"
          ],
          "name": "stdout"
        }
      ]
    },
    {
      "cell_type": "code",
      "metadata": {
        "colab": {
          "base_uri": "https://localhost:8080/"
        },
        "id": "WXO6tZdsh0IX",
        "outputId": "08a9458a-7ea8-4210-f93b-37aa19368052"
      },
      "source": [
        "cd TrafficSignRecognition"
      ],
      "execution_count": 2,
      "outputs": [
        {
          "output_type": "stream",
          "text": [
            "/content/TrafficSignRecognition\n"
          ],
          "name": "stdout"
        }
      ]
    },
    {
      "cell_type": "code",
      "metadata": {
        "id": "7Ga3HEcCh22D"
      },
      "source": [
        "import tensorflow as tf\n",
        "import pandas as pd\n",
        "import numpy as np\n",
        "import os\n",
        "import seaborn as sns\n",
        "import matplotlib.pyplot as plt\n",
        "import shutil"
      ],
      "execution_count": 42,
      "outputs": []
    },
    {
      "cell_type": "code",
      "metadata": {
        "id": "XIaDKEE0iHQW"
      },
      "source": [
        "files_list = os.listdir('TSRD-Train')"
      ],
      "execution_count": 5,
      "outputs": []
    },
    {
      "cell_type": "code",
      "metadata": {
        "id": "YH9YWD6YiVkQ"
      },
      "source": [
        "classes = [i[:i.find('_')] for i in files_list]"
      ],
      "execution_count": 11,
      "outputs": []
    },
    {
      "cell_type": "code",
      "metadata": {
        "id": "831-sPOdif4W"
      },
      "source": [
        "train_dataset = pd.DataFrame(np.array([files_list,classes]).T,columns=['filename','class'])"
      ],
      "execution_count": 20,
      "outputs": []
    },
    {
      "cell_type": "code",
      "metadata": {
        "colab": {
          "base_uri": "https://localhost:8080/",
          "height": 195
        },
        "id": "uSUzE8E8jC5y",
        "outputId": "586d27f8-dfbd-4bf8-e0d5-b346be1b8a8a"
      },
      "source": [
        "train_dataset.head()"
      ],
      "execution_count": 21,
      "outputs": [
        {
          "output_type": "execute_result",
          "data": {
            "text/html": [
              "<div>\n",
              "<style scoped>\n",
              "    .dataframe tbody tr th:only-of-type {\n",
              "        vertical-align: middle;\n",
              "    }\n",
              "\n",
              "    .dataframe tbody tr th {\n",
              "        vertical-align: top;\n",
              "    }\n",
              "\n",
              "    .dataframe thead th {\n",
              "        text-align: right;\n",
              "    }\n",
              "</style>\n",
              "<table border=\"1\" class=\"dataframe\">\n",
              "  <thead>\n",
              "    <tr style=\"text-align: right;\">\n",
              "      <th></th>\n",
              "      <th>filename</th>\n",
              "      <th>class</th>\n",
              "    </tr>\n",
              "  </thead>\n",
              "  <tbody>\n",
              "    <tr>\n",
              "      <th>0</th>\n",
              "      <td>043_1_0017.png</td>\n",
              "      <td>043</td>\n",
              "    </tr>\n",
              "    <tr>\n",
              "      <th>1</th>\n",
              "      <td>024_0031.png</td>\n",
              "      <td>024</td>\n",
              "    </tr>\n",
              "    <tr>\n",
              "      <th>2</th>\n",
              "      <td>011_0001.png</td>\n",
              "      <td>011</td>\n",
              "    </tr>\n",
              "    <tr>\n",
              "      <th>3</th>\n",
              "      <td>056_0002.png</td>\n",
              "      <td>056</td>\n",
              "    </tr>\n",
              "    <tr>\n",
              "      <th>4</th>\n",
              "      <td>004_0026.png</td>\n",
              "      <td>004</td>\n",
              "    </tr>\n",
              "  </tbody>\n",
              "</table>\n",
              "</div>"
            ],
            "text/plain": [
              "         filename class\n",
              "0  043_1_0017.png   043\n",
              "1    024_0031.png   024\n",
              "2    011_0001.png   011\n",
              "3    056_0002.png   056\n",
              "4    004_0026.png   004"
            ]
          },
          "metadata": {
            "tags": []
          },
          "execution_count": 21
        }
      ]
    },
    {
      "cell_type": "code",
      "metadata": {
        "id": "DkLP5gt6jsjS"
      },
      "source": [
        "class_count = train_dataset.groupby(['class']).count().reset_index()"
      ],
      "execution_count": 32,
      "outputs": []
    },
    {
      "cell_type": "code",
      "metadata": {
        "colab": {
          "base_uri": "https://localhost:8080/",
          "height": 195
        },
        "id": "rYdVB8lej-ct",
        "outputId": "20ab718e-d861-48c7-965a-cff34e335da0"
      },
      "source": [
        "class_count.head()"
      ],
      "execution_count": 33,
      "outputs": [
        {
          "output_type": "execute_result",
          "data": {
            "text/html": [
              "<div>\n",
              "<style scoped>\n",
              "    .dataframe tbody tr th:only-of-type {\n",
              "        vertical-align: middle;\n",
              "    }\n",
              "\n",
              "    .dataframe tbody tr th {\n",
              "        vertical-align: top;\n",
              "    }\n",
              "\n",
              "    .dataframe thead th {\n",
              "        text-align: right;\n",
              "    }\n",
              "</style>\n",
              "<table border=\"1\" class=\"dataframe\">\n",
              "  <thead>\n",
              "    <tr style=\"text-align: right;\">\n",
              "      <th></th>\n",
              "      <th>class</th>\n",
              "      <th>filename</th>\n",
              "    </tr>\n",
              "  </thead>\n",
              "  <tbody>\n",
              "    <tr>\n",
              "      <th>0</th>\n",
              "      <td>000</td>\n",
              "      <td>118</td>\n",
              "    </tr>\n",
              "    <tr>\n",
              "      <th>1</th>\n",
              "      <td>001</td>\n",
              "      <td>40</td>\n",
              "    </tr>\n",
              "    <tr>\n",
              "      <th>2</th>\n",
              "      <td>002</td>\n",
              "      <td>80</td>\n",
              "    </tr>\n",
              "    <tr>\n",
              "      <th>3</th>\n",
              "      <td>003</td>\n",
              "      <td>260</td>\n",
              "    </tr>\n",
              "    <tr>\n",
              "      <th>4</th>\n",
              "      <td>004</td>\n",
              "      <td>98</td>\n",
              "    </tr>\n",
              "  </tbody>\n",
              "</table>\n",
              "</div>"
            ],
            "text/plain": [
              "  class  filename\n",
              "0   000       118\n",
              "1   001        40\n",
              "2   002        80\n",
              "3   003       260\n",
              "4   004        98"
            ]
          },
          "metadata": {
            "tags": []
          },
          "execution_count": 33
        }
      ]
    },
    {
      "cell_type": "code",
      "metadata": {
        "colab": {
          "base_uri": "https://localhost:8080/",
          "height": 282
        },
        "id": "WGPtf106kbTc",
        "outputId": "46a89b04-0dbf-4c31-c1da-2effaa2a1f40"
      },
      "source": [
        "sns.barplot(x=class_count['class'].values,y=class_count['filename'].values)"
      ],
      "execution_count": 40,
      "outputs": [
        {
          "output_type": "execute_result",
          "data": {
            "text/plain": [
              "<matplotlib.axes._subplots.AxesSubplot at 0x7f10b878ca20>"
            ]
          },
          "metadata": {
            "tags": []
          },
          "execution_count": 40
        },
        {
          "output_type": "display_data",
          "data": {
            "image/png": "[encoded data removed]",
            "text/plain": [
              "<Figure size 432x288 with 1 Axes>"
            ]
          },
          "metadata": {
            "tags": [],
            "needs_background": "light"
          }
        }
      ]
    },
    {
      "cell_type": "code",
      "metadata": {
        "id": "8-XLhaUymwbE"
      },
      "source": [
        "for i in class_count['class'].values:\n",
        "  os.mkdir('/content/train/'+str(i))\n",
        "  for j in train_dataset[train_dataset['class']==i].filename.values:\n",
        "    shutil.copy('/content/TrafficSignRecognition/TSRD-Train/'+j,'/content/train/'+str(i)+'/'+j)"
      ],
      "execution_count": 56,
      "outputs": []
    },
    {
      "cell_type": "markdown",
      "metadata": {
        "id": "pWRBVkRqqL7w"
      },
      "source": [
        "#Tensorflow ML"
      ]
    },
    {
      "cell_type": "markdown",
      "metadata": {
        "id": "iCge_kDWqPWm"
      },
      "source": [
        "## Pre-processing"
      ]
    },
    {
      "cell_type": "code",
      "metadata": {
        "colab": {
          "base_uri": "https://localhost:8080/"
        },
        "id": "kLyQiH4pqOwI",
        "outputId": "b983e151-751b-4b31-8957-497d689d9062"
      },
      "source": [
        "datagen_train = tf.keras.preprocessing.image.ImageDataGenerator(rotation_range=20,\n",
        "      horizontal_flip=True,\n",
        "      width_shift_range=0.2, height_shift_range=0.2,\n",
        "      shear_range=0.2, \n",
        "      zoom_range=0.3,\n",
        "      rescale=1./255, validation_split=.1,\n",
        "      )\n",
        "train_generator = datagen_train.flow_from_directory(\n",
        "    '/content/train/',target_size=(256,256), shuffle=True,subset='training',class_mode='sparse',seed=10)"
      ],
      "execution_count": 62,
      "outputs": [
        {
          "output_type": "stream",
          "text": [
            "Found 3776 images belonging to 59 classes.\n"
          ],
          "name": "stdout"
        }
      ]
    },
    {
      "cell_type": "code",
      "metadata": {
        "colab": {
          "base_uri": "https://localhost:8080/"
        },
        "id": "knFTha7gq8ci",
        "outputId": "f4c5be7e-c1f8-4da8-a4b6-cd2c61a5d987"
      },
      "source": [
        "datagen_val = tf.keras.preprocessing.image.ImageDataGenerator(rotation_range=20,\n",
        "      horizontal_flip=True,\n",
        "      #width_shift_range=0.2, height_shift_range=0.2,\n",
        "      shear_range=0.2, \n",
        "      zoom_range=0.3,\n",
        "      rescale=1./255, validation_split=.1,\n",
        "      )\n",
        "val_generator = datagen_train.flow_from_directory(\n",
        "    '/content/train/',target_size=(256,256), shuffle=True,subset='validation',class_mode='sparse',seed=10)"
      ],
      "execution_count": 70,
      "outputs": [
        {
          "output_type": "stream",
          "text": [
            "Found 394 images belonging to 59 classes.\n"
          ],
          "name": "stdout"
        }
      ]
    },
    {
      "cell_type": "markdown",
      "metadata": {
        "id": "GuAfXwOPraLy"
      },
      "source": [
        "## Model"
      ]
    },
    {
      "cell_type": "code",
      "metadata": {
        "id": "vOalCT7_rbLd"
      },
      "source": [
        "model = tf.keras.Sequential([\n",
        "                             tf.keras.layers.Input(shape=(256,256,3)),\n",
        "                             tf.keras.layers.Conv2D(256,3,activation='relu'),\n",
        "                             tf.keras.layers.MaxPool2D(),\n",
        "                             tf.keras.layers.Conv2D(128,3,activation='relu'),\n",
        "                             tf.keras.layers.MaxPool2D(),\n",
        "                             tf.keras.layers.Conv2D(64,3,activation='relu'),\n",
        "                             tf.keras.layers.MaxPool2D(),\n",
        "                             tf.keras.layers.Flatten(),\n",
        "                             tf.keras.layers.Dense(512,activation='relu'),\n",
        "                             tf.keras.layers.Dense(256,activation='relu'),\n",
        "                             tf.keras.layers.Dense(128,activation='relu'),\n",
        "                             tf.keras.layers.Dense(64,activation='relu'),\n",
        "                             tf.keras.layers.Dropout(0.2),\n",
        "                             tf.keras.layers.Dense(59,activation='softmax'),\n",
        "])"
      ],
      "execution_count": 64,
      "outputs": []
    },
    {
      "cell_type": "code",
      "metadata": {
        "id": "WewsgQVisuAZ"
      },
      "source": [
        "model.compile(optimizer='adam',loss='sparse_categorical_crossentropy',metrics=['accuracy'])"
      ],
      "execution_count": 67,
      "outputs": []
    },
    {
      "cell_type": "code",
      "metadata": {
        "colab": {
          "base_uri": "https://localhost:8080/"
        },
        "id": "SdgK6vMKs_7w",
        "outputId": "7243e15f-0717-4653-f0b4-768ddf4c65c6"
      },
      "source": [
        "history = model.fit(train_generator,epochs=10,batch_size=32,validation_data=val_generator)"
      ],
      "execution_count": 73,
      "outputs": [
        {
          "output_type": "stream",
          "text": [
            "Epoch 1/10\n",
            "118/118 [==============================] - 68s 573ms/step - loss: 1.2774 - accuracy: 0.5834 - val_loss: 1.4627 - val_accuracy: 0.5178\n",
            "Epoch 2/10\n",
            "118/118 [==============================] - 67s 567ms/step - loss: 1.2337 - accuracy: 0.6043 - val_loss: 1.2980 - val_accuracy: 0.5635\n",
            "Epoch 3/10\n",
            "118/118 [==============================] - 67s 564ms/step - loss: 1.1500 - accuracy: 0.6284 - val_loss: 1.4024 - val_accuracy: 0.5279\n",
            "Epoch 4/10\n",
            "118/118 [==============================] - 67s 567ms/step - loss: 1.1418 - accuracy: 0.6255 - val_loss: 1.2481 - val_accuracy: 0.5838\n",
            "Epoch 5/10\n",
            "118/118 [==============================] - 67s 565ms/step - loss: 1.0565 - accuracy: 0.6467 - val_loss: 1.1769 - val_accuracy: 0.5990\n",
            "Epoch 6/10\n",
            "118/118 [==============================] - 67s 566ms/step - loss: 0.9735 - accuracy: 0.6751 - val_loss: 1.1789 - val_accuracy: 0.5787\n",
            "Epoch 7/10\n",
            "118/118 [==============================] - 67s 566ms/step - loss: 0.9378 - accuracy: 0.6915 - val_loss: 1.2158 - val_accuracy: 0.6142\n",
            "Epoch 8/10\n",
            "118/118 [==============================] - 67s 566ms/step - loss: 0.8803 - accuracy: 0.7113 - val_loss: 0.9798 - val_accuracy: 0.6726\n",
            "Epoch 9/10\n",
            "118/118 [==============================] - 67s 565ms/step - loss: 0.8517 - accuracy: 0.7188 - val_loss: 0.9972 - val_accuracy: 0.6447\n",
            "Epoch 10/10\n",
            "118/118 [==============================] - 67s 564ms/step - loss: 0.8194 - accuracy: 0.7317 - val_loss: 0.9476 - val_accuracy: 0.6701\n"
          ],
          "name": "stdout"
        }
      ]
    },
    {
      "cell_type": "code",
      "metadata": {
        "id": "hjaaxu81tJPA"
      },
      "source": [
        "model.save('./model_custom.h5')"
      ],
      "execution_count": 74,
      "outputs": []
    }
  ]
}